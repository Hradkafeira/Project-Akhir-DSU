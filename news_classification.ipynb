{
  "nbformat": 4,
  "nbformat_minor": 0,
  "metadata": {
    "kernelspec": {
      "display_name": "Python 3",
      "language": "python",
      "name": "python3"
    },
    "language_info": {
      "codemirror_mode": {
        "name": "ipython",
        "version": 3
      },
      "file_extension": ".py",
      "mimetype": "text/x-python",
      "name": "python",
      "nbconvert_exporter": "python",
      "pygments_lexer": "ipython3",
      "version": "3.8.5"
    },
    "colab": {
      "name": "news classification.ipynb",
      "provenance": [],
      "toc_visible": true
    }
  },
  "cells": [
    {
      "cell_type": "markdown",
      "metadata": {
        "id": "YxBBPGxsBa5g"
      },
      "source": [
        "# Klasifikasi Teks Berita\n",
        "## Deskripsi singkat\n",
        "- Sumber data: https://archive.ics.uci.edu/ml/datasets/News+Aggregator\n",
        "- Deskripsi data: Teks berita bahasa inggris\n",
        "- Goal: Mengklasifikasikan teks berita berdasarkan empat topik yaitu entertainment (e), business (b), technology (t) dan health (m)\n",
        "- Algoritma yang digunakan: Support Vector Machine\n",
        "- Hasil: Setelah dilakukan EDA, preprocessing teks, feature extraction dan modeling menggunakan Algoritma SVM didapat hasil akurasi, presisi dan recall yaitu 0.96, 0.96, 0.96. Waw, ga nyangka aing :v"
      ]
    },
    {
      "cell_type": "code",
      "metadata": {
        "colab": {
          "base_uri": "https://localhost:8080/"
        },
        "id": "jZn8Mjhdnsmu",
        "outputId": "2ac4074c-5cc8-480b-9d45-ff2a64906444"
      },
      "source": [
        "from google.colab import drive\n",
        "drive.mount('/content/drive',force_remount=True)"
      ],
      "execution_count": 3,
      "outputs": [
        {
          "output_type": "stream",
          "text": [
            "Mounted at /content/drive\n"
          ],
          "name": "stdout"
        }
      ]
    },
    {
      "cell_type": "code",
      "metadata": {
        "colab": {
          "base_uri": "https://localhost:8080/"
        },
        "id": "yRhcfly-nrAY",
        "outputId": "e2bd5ad6-f9cf-4d80-8083-55beffdd4de2"
      },
      "source": [
        "import pandas as pd\n",
        "from collections import Counter\n",
        "import nltk \n",
        "from nltk.corpus import stopwords\n",
        "from nltk.stem import WordNetLemmatizer\n",
        "from sklearn.feature_extraction.text import TfidfVectorizer\n",
        "from sklearn.svm import LinearSVC\n",
        "from sklearn.model_selection import train_test_split\n",
        "from sklearn.metrics import accuracy_score\n",
        "from sklearn.metrics import classification_report\n",
        "nltk.download('punkt')\n",
        "nltk.download('stopwords')\n",
        "nltk.download('wordnet')"
      ],
      "execution_count": 4,
      "outputs": [
        {
          "output_type": "stream",
          "text": [
            "[nltk_data] Downloading package punkt to /root/nltk_data...\n",
            "[nltk_data]   Package punkt is already up-to-date!\n",
            "[nltk_data] Downloading package stopwords to /root/nltk_data...\n",
            "[nltk_data]   Package stopwords is already up-to-date!\n",
            "[nltk_data] Downloading package wordnet to /root/nltk_data...\n",
            "[nltk_data]   Package wordnet is already up-to-date!\n"
          ],
          "name": "stdout"
        },
        {
          "output_type": "execute_result",
          "data": {
            "text/plain": [
              "True"
            ]
          },
          "metadata": {
            "tags": []
          },
          "execution_count": 4
        }
      ]
    },
    {
      "cell_type": "code",
      "metadata": {
        "id": "MQSWxIeNn_yx"
      },
      "source": [
        "path=\"/content/drive/MyDrive/Tugas Akhir DSU Ceunah/\""
      ],
      "execution_count": 5,
      "outputs": []
    },
    {
      "cell_type": "markdown",
      "metadata": {
        "id": "cR1nwXJGnrAg"
      },
      "source": [
        "## EDA"
      ]
    },
    {
      "cell_type": "code",
      "metadata": {
        "colab": {
          "base_uri": "https://localhost:8080/"
        },
        "id": "5W0PBwzxnrAh",
        "outputId": "f163d201-2e54-4e12-e2bf-a52df9041530"
      },
      "source": [
        "df=pd.read_csv(path+\"uci-news-aggregator.csv\")\n",
        "df.columns"
      ],
      "execution_count": 6,
      "outputs": [
        {
          "output_type": "execute_result",
          "data": {
            "text/plain": [
              "Index(['ID', 'TITLE', 'URL', 'PUBLISHER', 'CATEGORY', 'STORY', 'HOSTNAME',\n",
              "       'TIMESTAMP'],\n",
              "      dtype='object')"
            ]
          },
          "metadata": {
            "tags": []
          },
          "execution_count": 6
        }
      ]
    },
    {
      "cell_type": "code",
      "metadata": {
        "id": "Fs2utbLFnrAh"
      },
      "source": [
        "df=df[[\"TITLE\",\"CATEGORY\"]]\n",
        "df.columns=[\"judul\",\"kategori\"]"
      ],
      "execution_count": 7,
      "outputs": []
    },
    {
      "cell_type": "markdown",
      "metadata": {
        "id": "O8QY-L7_nrAi"
      },
      "source": [
        "#### Mengecek jumlah masing-masing label"
      ]
    },
    {
      "cell_type": "code",
      "metadata": {
        "id": "bRHV7vJQnrAj"
      },
      "source": [
        "df['kategori']=df['kategori'].replace(\"b\",\"business\").replace(\"m\",\"health\").replace(\"t\",\"technology\").replace(\"e\",\"entertainment\")"
      ],
      "execution_count": 19,
      "outputs": []
    },
    {
      "cell_type": "code",
      "metadata": {
        "colab": {
          "base_uri": "https://localhost:8080/"
        },
        "id": "KHrf4s12nrAi",
        "outputId": "1dee8918-eb40-4593-b3df-201a93518c0a"
      },
      "source": [
        "df['kategori'].value_counts()"
      ],
      "execution_count": 20,
      "outputs": [
        {
          "output_type": "execute_result",
          "data": {
            "text/plain": [
              "entertainment    152469\n",
              "business         115967\n",
              "technology       108344\n",
              "health            45639\n",
              "Name: kategori, dtype: int64"
            ]
          },
          "metadata": {
            "tags": []
          },
          "execution_count": 20
        }
      ]
    },
    {
      "cell_type": "markdown",
      "metadata": {
        "id": "K1tQholfnrAj"
      },
      "source": [
        "#### Mengecek duplikat dari dataset\n",
        "- Jika max lebih dari satu maka ada duplikat"
      ]
    },
    {
      "cell_type": "code",
      "metadata": {
        "colab": {
          "base_uri": "https://localhost:8080/"
        },
        "id": "IjHSIzxLnrAj",
        "outputId": "34f7b5d8-374b-4832-9873-708dd50a194a"
      },
      "source": [
        "data=Counter(df.judul)\n",
        "print(max(data.values()))\n",
        "print(min(data.values()))"
      ],
      "execution_count": 21,
      "outputs": [
        {
          "output_type": "stream",
          "text": [
            "145\n",
            "1\n"
          ],
          "name": "stdout"
        }
      ]
    },
    {
      "cell_type": "code",
      "metadata": {
        "id": "fQukt2y5nrAk"
      },
      "source": [
        "df=df.drop_duplicates(subset=['judul'])"
      ],
      "execution_count": 22,
      "outputs": []
    },
    {
      "cell_type": "markdown",
      "metadata": {
        "id": "mGvhJuotnrAk"
      },
      "source": [
        "## Text Preprocessing "
      ]
    },
    {
      "cell_type": "markdown",
      "metadata": {
        "id": "ro4Cu3GEnrAl"
      },
      "source": [
        "### Lowercasing"
      ]
    },
    {
      "cell_type": "code",
      "metadata": {
        "colab": {
          "base_uri": "https://localhost:8080/"
        },
        "id": "aTAtx1WtnrAl",
        "outputId": "311a68df-1529-4fb6-de80-0fed7d0cacb0"
      },
      "source": [
        "df['judul']=df['judul'].str.lower()"
      ],
      "execution_count": 23,
      "outputs": [
        {
          "output_type": "stream",
          "text": [
            "/usr/local/lib/python3.6/dist-packages/ipykernel_launcher.py:1: SettingWithCopyWarning: \n",
            "A value is trying to be set on a copy of a slice from a DataFrame.\n",
            "Try using .loc[row_indexer,col_indexer] = value instead\n",
            "\n",
            "See the caveats in the documentation: https://pandas.pydata.org/pandas-docs/stable/user_guide/indexing.html#returning-a-view-versus-a-copy\n",
            "  \"\"\"Entry point for launching an IPython kernel.\n"
          ],
          "name": "stderr"
        }
      ]
    },
    {
      "cell_type": "markdown",
      "metadata": {
        "id": "HWv16wFY3V0b"
      },
      "source": [
        "### Punctuation removal"
      ]
    },
    {
      "cell_type": "code",
      "metadata": {
        "id": "HLi6khwb27LO"
      },
      "source": [
        "puncs = '''!-():[]{};\"\\,<>./?@#$%^&*_~'''\n",
        "def rm_punc(text):\n",
        "  for el in text:\n",
        "    if el in puncs:\n",
        "      text=text.replace(el , '')\n",
        "  return text"
      ],
      "execution_count": 24,
      "outputs": []
    },
    {
      "cell_type": "code",
      "metadata": {
        "colab": {
          "base_uri": "https://localhost:8080/"
        },
        "id": "G007U8ow3UXB",
        "outputId": "5987eeb9-f308-47cf-8e54-19d159c82565"
      },
      "source": [
        "df['judul']=[*map(lambda word:rm_punc(word) , df['judul'].values)]"
      ],
      "execution_count": 25,
      "outputs": [
        {
          "output_type": "stream",
          "text": [
            "/usr/local/lib/python3.6/dist-packages/ipykernel_launcher.py:1: SettingWithCopyWarning: \n",
            "A value is trying to be set on a copy of a slice from a DataFrame.\n",
            "Try using .loc[row_indexer,col_indexer] = value instead\n",
            "\n",
            "See the caveats in the documentation: https://pandas.pydata.org/pandas-docs/stable/user_guide/indexing.html#returning-a-view-versus-a-copy\n",
            "  \"\"\"Entry point for launching an IPython kernel.\n"
          ],
          "name": "stderr"
        }
      ]
    },
    {
      "cell_type": "markdown",
      "metadata": {
        "id": "fGCNIWBonrAn"
      },
      "source": [
        "### Stopword removal"
      ]
    },
    {
      "cell_type": "code",
      "metadata": {
        "id": "JRdW-9_40iDj"
      },
      "source": [
        "sw = stopwords.words('english')\n",
        "# sw.append('coronavirus')\n",
        "def stop_word(text):\n",
        "  new_text = []\n",
        "  for word in text.split():\n",
        "    if word not in sw:\n",
        "      new_text.append(word)  \n",
        "  return(' '.join(new_text))"
      ],
      "execution_count": 26,
      "outputs": []
    },
    {
      "cell_type": "code",
      "metadata": {
        "colab": {
          "base_uri": "https://localhost:8080/"
        },
        "id": "ZZNPeHpR0y8G",
        "outputId": "844a422e-40f0-4a12-b5e1-6e0722f6286a"
      },
      "source": [
        "df['judul'] = df['judul'].apply(stop_word)"
      ],
      "execution_count": 27,
      "outputs": [
        {
          "output_type": "stream",
          "text": [
            "/usr/local/lib/python3.6/dist-packages/ipykernel_launcher.py:1: SettingWithCopyWarning: \n",
            "A value is trying to be set on a copy of a slice from a DataFrame.\n",
            "Try using .loc[row_indexer,col_indexer] = value instead\n",
            "\n",
            "See the caveats in the documentation: https://pandas.pydata.org/pandas-docs/stable/user_guide/indexing.html#returning-a-view-versus-a-copy\n",
            "  \"\"\"Entry point for launching an IPython kernel.\n"
          ],
          "name": "stderr"
        }
      ]
    },
    {
      "cell_type": "markdown",
      "metadata": {
        "id": "1ESAYVij9Nsv"
      },
      "source": [
        "### Lemmatization"
      ]
    },
    {
      "cell_type": "code",
      "metadata": {
        "colab": {
          "base_uri": "https://localhost:8080/"
        },
        "id": "jrfPoASy0wFK",
        "outputId": "b4007bfc-ce5a-40cd-e4af-e62649889e25"
      },
      "source": [
        "lemmatizer = WordNetLemmatizer()\n",
        "df['judul']=[*map(lambda word:lemmatizer.lemmatize(word) , df['judul'].values)]"
      ],
      "execution_count": 28,
      "outputs": [
        {
          "output_type": "stream",
          "text": [
            "/usr/local/lib/python3.6/dist-packages/ipykernel_launcher.py:2: SettingWithCopyWarning: \n",
            "A value is trying to be set on a copy of a slice from a DataFrame.\n",
            "Try using .loc[row_indexer,col_indexer] = value instead\n",
            "\n",
            "See the caveats in the documentation: https://pandas.pydata.org/pandas-docs/stable/user_guide/indexing.html#returning-a-view-versus-a-copy\n",
            "  \n"
          ],
          "name": "stderr"
        }
      ]
    },
    {
      "cell_type": "markdown",
      "metadata": {
        "id": "qD8SNXHQ9U0M"
      },
      "source": [
        "### Feature Extraction"
      ]
    },
    {
      "cell_type": "code",
      "metadata": {
        "colab": {
          "base_uri": "https://localhost:8080/"
        },
        "id": "cmAp-3ZJ7c1K",
        "outputId": "693024c8-6366-4898-ce79-4e69f2dd3578"
      },
      "source": [
        "Tfidf = TfidfVectorizer(ngram_range=(1, 2))\n",
        "tfidf_features = Tfidf.fit_transform(df.judul)\n",
        "tfidf_features.shape"
      ],
      "execution_count": 29,
      "outputs": [
        {
          "output_type": "execute_result",
          "data": {
            "text/plain": [
              "(406455, 1081165)"
            ]
          },
          "metadata": {
            "tags": []
          },
          "execution_count": 29
        }
      ]
    },
    {
      "cell_type": "markdown",
      "metadata": {
        "id": "HPC-RejIATcg"
      },
      "source": [
        "### Modeling"
      ]
    },
    {
      "cell_type": "code",
      "metadata": {
        "id": "WfGXcnD09k-x"
      },
      "source": [
        "svc = LinearSVC()\n",
        "X_train, X_test, y_train, y_test = train_test_split(tfidf_features, df['kategori'], test_size = 1/5, random_state = 50)\n",
        "svc.fit(X_train,y_train)\n",
        "prediction = svc.predict(X_test)"
      ],
      "execution_count": 30,
      "outputs": []
    },
    {
      "cell_type": "markdown",
      "metadata": {
        "id": "OGn5_BKCEhlM"
      },
      "source": [
        "### Evaluation"
      ]
    },
    {
      "cell_type": "code",
      "metadata": {
        "colab": {
          "base_uri": "https://localhost:8080/"
        },
        "id": "QtasDDJg-Q78",
        "outputId": "4bf790c7-1520-47b4-f85b-cfa333b3a169"
      },
      "source": [
        "print(\"accuracy score:\")\n",
        "print(accuracy_score(y_test, prediction))\n",
        "print(classification_report(prediction,y_test))"
      ],
      "execution_count": 31,
      "outputs": [
        {
          "output_type": "stream",
          "text": [
            "accuracy score:\n",
            "0.9594912105891181\n",
            "               precision    recall  f1-score   support\n",
            "\n",
            "     business       0.95      0.94      0.94     22425\n",
            "entertainment       0.99      0.98      0.98     29626\n",
            "       health       0.94      0.97      0.96      8495\n",
            "   technology       0.95      0.95      0.95     20745\n",
            "\n",
            "     accuracy                           0.96     81291\n",
            "    macro avg       0.95      0.96      0.96     81291\n",
            " weighted avg       0.96      0.96      0.96     81291\n",
            "\n"
          ],
          "name": "stdout"
        }
      ]
    }
  ]
}